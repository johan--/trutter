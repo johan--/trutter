{
 "cells": [
  {
   "cell_type": "code",
   "execution_count": 97,
   "metadata": {
    "collapsed": true
   },
   "outputs": [],
   "source": [
    "# import pandas\n",
    "import pandas as pd"
   ]
  },
  {
   "cell_type": "code",
   "execution_count": 98,
   "metadata": {
    "collapsed": true
   },
   "outputs": [],
   "source": [
    "# read in working CSV file\n",
    "# note: I could've built my own scraper for this, but to save time, I paid $5 for docteur-tweety.com. \n",
    "# Totally lazy, totally worth it.\n",
    "\n",
    "tweets = pd.read_table('tweetscopy.csv', sep=',')"
   ]
  },
  {
   "cell_type": "code",
   "execution_count": 99,
   "metadata": {
    "collapsed": false
   },
   "outputs": [
    {
     "data": {
      "text/html": [
       "<div>\n",
       "<table border=\"1\" class=\"dataframe\">\n",
       "  <thead>\n",
       "    <tr style=\"text-align: right;\">\n",
       "      <th></th>\n",
       "      <th>date</th>\n",
       "      <th>text</th>\n",
       "      <th>retweets</th>\n",
       "      <th>favorites</th>\n",
       "    </tr>\n",
       "  </thead>\n",
       "  <tbody>\n",
       "    <tr>\n",
       "      <th>0</th>\n",
       "      <td>3/18/16 22:55</td>\n",
       "      <td>Everybody should boycott the @megynkelly show....</td>\n",
       "      <td>3517</td>\n",
       "      <td>10453</td>\n",
       "    </tr>\n",
       "    <tr>\n",
       "      <th>1</th>\n",
       "      <td>3/18/16 21:41</td>\n",
       "      <td>Thank you Arizona- I love you! #MakeAmericaGre...</td>\n",
       "      <td>3222</td>\n",
       "      <td>9352</td>\n",
       "    </tr>\n",
       "    <tr>\n",
       "      <th>2</th>\n",
       "      <td>3/18/16 21:39</td>\n",
       "      <td>Join me tomorrow! #Trump2016 #MakeAmericaGreat...</td>\n",
       "      <td>1742</td>\n",
       "      <td>5283</td>\n",
       "    </tr>\n",
       "    <tr>\n",
       "      <th>3</th>\n",
       "      <td>3/18/16 21:37</td>\n",
       "      <td>Mitt Romney is a mixed up man who doesn't have...</td>\n",
       "      <td>2755</td>\n",
       "      <td>9199</td>\n",
       "    </tr>\n",
       "    <tr>\n",
       "      <th>4</th>\n",
       "      <td>3/18/16 21:21</td>\n",
       "      <td>Failed Presidential Candidate Mitt Romney was ...</td>\n",
       "      <td>2770</td>\n",
       "      <td>8348</td>\n",
       "    </tr>\n",
       "  </tbody>\n",
       "</table>\n",
       "</div>"
      ],
      "text/plain": [
       "            date                                               text  retweets  \\\n",
       "0  3/18/16 22:55  Everybody should boycott the @megynkelly show....      3517   \n",
       "1  3/18/16 21:41  Thank you Arizona- I love you! #MakeAmericaGre...      3222   \n",
       "2  3/18/16 21:39  Join me tomorrow! #Trump2016 #MakeAmericaGreat...      1742   \n",
       "3  3/18/16 21:37  Mitt Romney is a mixed up man who doesn't have...      2755   \n",
       "4  3/18/16 21:21  Failed Presidential Candidate Mitt Romney was ...      2770   \n",
       "\n",
       "   favorites  \n",
       "0      10453  \n",
       "1       9352  \n",
       "2       5283  \n",
       "3       9199  \n",
       "4       8348  "
      ]
     },
     "execution_count": 99,
     "metadata": {},
     "output_type": "execute_result"
    }
   ],
   "source": [
    "# check to make sure it read in properly\n",
    "tweets.head(5)"
   ]
  },
  {
   "cell_type": "code",
   "execution_count": 100,
   "metadata": {
    "collapsed": false
   },
   "outputs": [],
   "source": [
    "# quick conversion of date format\n",
    "tweets.date = tweets.date.apply(pd.to_datetime)"
   ]
  },
  {
   "cell_type": "code",
   "execution_count": 101,
   "metadata": {
    "collapsed": false
   },
   "outputs": [
    {
     "data": {
      "text/html": [
       "<div>\n",
       "<table border=\"1\" class=\"dataframe\">\n",
       "  <thead>\n",
       "    <tr style=\"text-align: right;\">\n",
       "      <th></th>\n",
       "      <th>date</th>\n",
       "      <th>text</th>\n",
       "      <th>retweets</th>\n",
       "      <th>favorites</th>\n",
       "    </tr>\n",
       "  </thead>\n",
       "  <tbody>\n",
       "    <tr>\n",
       "      <th>0</th>\n",
       "      <td>2016-03-18 22:55:00</td>\n",
       "      <td>Everybody should boycott the @megynkelly show....</td>\n",
       "      <td>3517</td>\n",
       "      <td>10453</td>\n",
       "    </tr>\n",
       "    <tr>\n",
       "      <th>1</th>\n",
       "      <td>2016-03-18 21:41:00</td>\n",
       "      <td>Thank you Arizona- I love you! #MakeAmericaGre...</td>\n",
       "      <td>3222</td>\n",
       "      <td>9352</td>\n",
       "    </tr>\n",
       "    <tr>\n",
       "      <th>2</th>\n",
       "      <td>2016-03-18 21:39:00</td>\n",
       "      <td>Join me tomorrow! #Trump2016 #MakeAmericaGreat...</td>\n",
       "      <td>1742</td>\n",
       "      <td>5283</td>\n",
       "    </tr>\n",
       "    <tr>\n",
       "      <th>3</th>\n",
       "      <td>2016-03-18 21:37:00</td>\n",
       "      <td>Mitt Romney is a mixed up man who doesn't have...</td>\n",
       "      <td>2755</td>\n",
       "      <td>9199</td>\n",
       "    </tr>\n",
       "    <tr>\n",
       "      <th>4</th>\n",
       "      <td>2016-03-18 21:21:00</td>\n",
       "      <td>Failed Presidential Candidate Mitt Romney was ...</td>\n",
       "      <td>2770</td>\n",
       "      <td>8348</td>\n",
       "    </tr>\n",
       "  </tbody>\n",
       "</table>\n",
       "</div>"
      ],
      "text/plain": [
       "                 date                                               text  \\\n",
       "0 2016-03-18 22:55:00  Everybody should boycott the @megynkelly show....   \n",
       "1 2016-03-18 21:41:00  Thank you Arizona- I love you! #MakeAmericaGre...   \n",
       "2 2016-03-18 21:39:00  Join me tomorrow! #Trump2016 #MakeAmericaGreat...   \n",
       "3 2016-03-18 21:37:00  Mitt Romney is a mixed up man who doesn't have...   \n",
       "4 2016-03-18 21:21:00  Failed Presidential Candidate Mitt Romney was ...   \n",
       "\n",
       "   retweets  favorites  \n",
       "0      3517      10453  \n",
       "1      3222       9352  \n",
       "2      1742       5283  \n",
       "3      2755       9199  \n",
       "4      2770       8348  "
      ]
     },
     "execution_count": 101,
     "metadata": {},
     "output_type": "execute_result"
    }
   ],
   "source": [
    "# checking to make sure it worked; looks good\n",
    "tweets.head(5)"
   ]
  },
  {
   "cell_type": "code",
   "execution_count": 102,
   "metadata": {
    "collapsed": false
   },
   "outputs": [
    {
     "data": {
      "text/html": [
       "<div>\n",
       "<table border=\"1\" class=\"dataframe\">\n",
       "  <thead>\n",
       "    <tr style=\"text-align: right;\">\n",
       "      <th></th>\n",
       "      <th>retweets</th>\n",
       "      <th>favorites</th>\n",
       "    </tr>\n",
       "  </thead>\n",
       "  <tbody>\n",
       "    <tr>\n",
       "      <th>count</th>\n",
       "      <td>3174.000000</td>\n",
       "      <td>3174.000000</td>\n",
       "    </tr>\n",
       "    <tr>\n",
       "      <th>mean</th>\n",
       "      <td>2193.762445</td>\n",
       "      <td>5515.554190</td>\n",
       "    </tr>\n",
       "    <tr>\n",
       "      <th>std</th>\n",
       "      <td>2093.820027</td>\n",
       "      <td>4835.761654</td>\n",
       "    </tr>\n",
       "    <tr>\n",
       "      <th>min</th>\n",
       "      <td>322.000000</td>\n",
       "      <td>0.000000</td>\n",
       "    </tr>\n",
       "    <tr>\n",
       "      <th>25%</th>\n",
       "      <td>908.500000</td>\n",
       "      <td>2262.250000</td>\n",
       "    </tr>\n",
       "    <tr>\n",
       "      <th>50%</th>\n",
       "      <td>1489.000000</td>\n",
       "      <td>3886.000000</td>\n",
       "    </tr>\n",
       "    <tr>\n",
       "      <th>75%</th>\n",
       "      <td>2746.000000</td>\n",
       "      <td>7080.000000</td>\n",
       "    </tr>\n",
       "    <tr>\n",
       "      <th>max</th>\n",
       "      <td>25548.000000</td>\n",
       "      <td>46501.000000</td>\n",
       "    </tr>\n",
       "  </tbody>\n",
       "</table>\n",
       "</div>"
      ],
      "text/plain": [
       "           retweets     favorites\n",
       "count   3174.000000   3174.000000\n",
       "mean    2193.762445   5515.554190\n",
       "std     2093.820027   4835.761654\n",
       "min      322.000000      0.000000\n",
       "25%      908.500000   2262.250000\n",
       "50%     1489.000000   3886.000000\n",
       "75%     2746.000000   7080.000000\n",
       "max    25548.000000  46501.000000"
      ]
     },
     "execution_count": 102,
     "metadata": {},
     "output_type": "execute_result"
    }
   ],
   "source": [
    "# some quick analytics\n",
    "tweets.describe()"
   ]
  },
  {
   "cell_type": "code",
   "execution_count": 103,
   "metadata": {
    "collapsed": true
   },
   "outputs": [],
   "source": [
    "# total tweets in database: 3,174\n",
    "# max retweets: 25,548\n",
    "# max favorites: 46,501\n",
    "# who are these people?!"
   ]
  },
  {
   "cell_type": "code",
   "execution_count": 104,
   "metadata": {
    "collapsed": false
   },
   "outputs": [
    {
     "data": {
      "text/plain": [
       "DatetimeIndex(['2016-03-18 17:55:00-05:00', '2016-03-18 16:41:00-05:00',\n",
       "               '2016-03-18 16:39:00-05:00', '2016-03-18 16:37:00-05:00',\n",
       "               '2016-03-18 16:21:00-05:00', '2016-03-18 16:18:00-05:00',\n",
       "               '2016-03-18 16:07:00-05:00', '2016-03-18 16:05:00-05:00',\n",
       "               '2016-03-18 15:57:00-05:00', '2016-03-18 15:44:00-05:00', \n",
       "               ...\n",
       "               '2015-10-07 13:19:00-05:00', '2015-10-07 12:47:00-05:00',\n",
       "               '2015-10-07 12:46:00-05:00', '2015-10-07 11:39:00-05:00',\n",
       "               '2015-10-07 11:34:00-05:00', '2015-10-07 08:51:00-05:00',\n",
       "               '2015-10-07 00:13:00-05:00', '2015-10-07 00:12:00-05:00',\n",
       "               '2015-10-07 00:06:00-05:00', '2015-10-06 21:06:00-05:00'],\n",
       "              dtype='datetime64[ns]', name=u'date', length=3174, freq=None, tz='EST')"
      ]
     },
     "execution_count": 104,
     "metadata": {},
     "output_type": "execute_result"
    }
   ],
   "source": [
    "from pandas.tseries.resample import TimeGrouper\n",
    "from pandas.tseries.offsets import DateOffset\n",
    "tweets['date'] = pd.to_datetime(pd.Series(tweets['date']))\n",
    "tweets.set_index('date', drop=False, inplace=True)\n",
    "tweets.index = tweets.index.tz_localize('GMT').tz_convert('EST')\n",
    "tweets.index = tweets.index - DateOffset(hours = 0)\n",
    "tweets.index"
   ]
  },
  {
   "cell_type": "code",
   "execution_count": 105,
   "metadata": {
    "collapsed": false
   },
   "outputs": [
    {
     "data": {
      "text/html": [
       "<div>\n",
       "<table border=\"1\" class=\"dataframe\">\n",
       "  <thead>\n",
       "    <tr style=\"text-align: right;\">\n",
       "      <th></th>\n",
       "      <th>date</th>\n",
       "      <th>text</th>\n",
       "      <th>retweets</th>\n",
       "      <th>favorites</th>\n",
       "    </tr>\n",
       "    <tr>\n",
       "      <th>date</th>\n",
       "      <th></th>\n",
       "      <th></th>\n",
       "      <th></th>\n",
       "      <th></th>\n",
       "    </tr>\n",
       "  </thead>\n",
       "  <tbody>\n",
       "    <tr>\n",
       "      <th>2016-03-18 17:55:00-05:00</th>\n",
       "      <td>2016-03-18 22:55:00</td>\n",
       "      <td>Everybody should boycott the @megynkelly show....</td>\n",
       "      <td>3517</td>\n",
       "      <td>10453</td>\n",
       "    </tr>\n",
       "    <tr>\n",
       "      <th>2016-03-18 16:41:00-05:00</th>\n",
       "      <td>2016-03-18 21:41:00</td>\n",
       "      <td>Thank you Arizona- I love you! #MakeAmericaGre...</td>\n",
       "      <td>3222</td>\n",
       "      <td>9352</td>\n",
       "    </tr>\n",
       "    <tr>\n",
       "      <th>2016-03-18 16:39:00-05:00</th>\n",
       "      <td>2016-03-18 21:39:00</td>\n",
       "      <td>Join me tomorrow! #Trump2016 #MakeAmericaGreat...</td>\n",
       "      <td>1742</td>\n",
       "      <td>5283</td>\n",
       "    </tr>\n",
       "    <tr>\n",
       "      <th>2016-03-18 16:37:00-05:00</th>\n",
       "      <td>2016-03-18 21:37:00</td>\n",
       "      <td>Mitt Romney is a mixed up man who doesn't have...</td>\n",
       "      <td>2755</td>\n",
       "      <td>9199</td>\n",
       "    </tr>\n",
       "    <tr>\n",
       "      <th>2016-03-18 16:21:00-05:00</th>\n",
       "      <td>2016-03-18 21:21:00</td>\n",
       "      <td>Failed Presidential Candidate Mitt Romney was ...</td>\n",
       "      <td>2770</td>\n",
       "      <td>8348</td>\n",
       "    </tr>\n",
       "  </tbody>\n",
       "</table>\n",
       "</div>"
      ],
      "text/plain": [
       "                                         date  \\\n",
       "date                                            \n",
       "2016-03-18 17:55:00-05:00 2016-03-18 22:55:00   \n",
       "2016-03-18 16:41:00-05:00 2016-03-18 21:41:00   \n",
       "2016-03-18 16:39:00-05:00 2016-03-18 21:39:00   \n",
       "2016-03-18 16:37:00-05:00 2016-03-18 21:37:00   \n",
       "2016-03-18 16:21:00-05:00 2016-03-18 21:21:00   \n",
       "\n",
       "                                                                        text  \\\n",
       "date                                                                           \n",
       "2016-03-18 17:55:00-05:00  Everybody should boycott the @megynkelly show....   \n",
       "2016-03-18 16:41:00-05:00  Thank you Arizona- I love you! #MakeAmericaGre...   \n",
       "2016-03-18 16:39:00-05:00  Join me tomorrow! #Trump2016 #MakeAmericaGreat...   \n",
       "2016-03-18 16:37:00-05:00  Mitt Romney is a mixed up man who doesn't have...   \n",
       "2016-03-18 16:21:00-05:00  Failed Presidential Candidate Mitt Romney was ...   \n",
       "\n",
       "                           retweets  favorites  \n",
       "date                                            \n",
       "2016-03-18 17:55:00-05:00      3517      10453  \n",
       "2016-03-18 16:41:00-05:00      3222       9352  \n",
       "2016-03-18 16:39:00-05:00      1742       5283  \n",
       "2016-03-18 16:37:00-05:00      2755       9199  \n",
       "2016-03-18 16:21:00-05:00      2770       8348  "
      ]
     },
     "execution_count": 105,
     "metadata": {},
     "output_type": "execute_result"
    }
   ],
   "source": [
    "tweets.head(5)"
   ]
  },
  {
   "cell_type": "code",
   "execution_count": 106,
   "metadata": {
    "collapsed": false
   },
   "outputs": [
    {
     "data": {
      "text/plain": [
       "date\n",
       "2015-10-06 12:30:00-05:00     4\n",
       "2015-10-07 01:00:00-05:00     6\n",
       "2015-10-07 13:30:00-05:00    12\n",
       "2015-10-08 02:00:00-05:00    13\n",
       "2015-10-08 14:30:00-05:00    11\n",
       "2015-10-09 03:00:00-05:00     9\n",
       "2015-10-09 15:30:00-05:00    23\n",
       "2015-10-10 04:00:00-05:00    10\n",
       "2015-10-10 16:30:00-05:00     3\n",
       "2015-10-11 05:00:00-05:00     1\n",
       "Freq: 750T, Name: date, dtype: int64"
      ]
     },
     "execution_count": 106,
     "metadata": {},
     "output_type": "execute_result"
    }
   ],
   "source": [
    "tweets1t = tweets['date'].resample('750t', how='count')\n",
    "tweets1t.head(10)"
   ]
  },
  {
   "cell_type": "code",
   "execution_count": 107,
   "metadata": {
    "collapsed": false
   },
   "outputs": [
    {
     "data": {
      "text/html": [
       "\n",
       "           <script>\n",
       "               \n",
       "                function vct_load_lib(url, callback){\n",
       "                      if(typeof d3 !== 'undefined' &&\n",
       "                         url === 'http://d3js.org/d3.v3.min.js'){\n",
       "                        callback()\n",
       "                      }\n",
       "                      var s = document.createElement('script');\n",
       "                      s.src = url;\n",
       "                      s.async = true;\n",
       "                      s.onreadystatechange = s.onload = callback;\n",
       "                      s.onerror = function(){\n",
       "                        console.warn(\"failed to load library \" + url);\n",
       "                        };\n",
       "                      document.getElementsByTagName(\"head\")[0].appendChild(s);\n",
       "                };\n",
       "                var vincent_event = new CustomEvent(\n",
       "                  \"vincent_libs_loaded\",\n",
       "                  {bubbles: true, cancelable: true}\n",
       "                );\n",
       "                \n",
       "               function load_all_libs(){\n",
       "                  console.log('Loading Vincent libs...')\n",
       "                  vct_load_lib('http://d3js.org/d3.v3.min.js', function(){\n",
       "                  vct_load_lib('http://d3js.org/d3.geo.projection.v0.min.js', function(){\n",
       "                  vct_load_lib('http://wrobstory.github.io/d3-cloud/d3.layout.cloud.js', function(){\n",
       "                  vct_load_lib('http://wrobstory.github.io/vega/vega.v1.3.3.js', function(){\n",
       "                  window.dispatchEvent(vincent_event);\n",
       "                  });\n",
       "                  });\n",
       "                  });\n",
       "                  });\n",
       "               };\n",
       "               if(typeof define === \"function\" && define.amd){\n",
       "                    if (window['d3'] === undefined ||\n",
       "                        window['topojson'] === undefined){\n",
       "                        require.config(\n",
       "                            {paths: {\n",
       "                              d3: 'http://d3js.org/d3.v3.min',\n",
       "                              topojson: 'http://d3js.org/topojson.v1.min'\n",
       "                              }\n",
       "                            }\n",
       "                          );\n",
       "                        require([\"d3\"], function(d3){\n",
       "                            console.log('Loading Vincent from require.js...')\n",
       "                            window.d3 = d3;\n",
       "                            require([\"topojson\"], function(topojson){\n",
       "                                window.topojson = topojson;\n",
       "                                load_all_libs();\n",
       "                            });\n",
       "                        });\n",
       "                    } else {\n",
       "                        load_all_libs();\n",
       "                    };\n",
       "               }else{\n",
       "                    console.log('Require.js not found, loading manually...')\n",
       "                    load_all_libs();\n",
       "               };\n",
       "\n",
       "           </script>"
      ],
      "text/plain": [
       "<IPython.core.display.HTML object>"
      ]
     },
     "metadata": {},
     "output_type": "display_data"
    },
    {
     "data": {
      "text/html": [
       "<div id=\"vis39caeb14b5b24578b3f7fcfe47987560\"></div>\n",
       "<script>\n",
       "   ( function() {\n",
       "     var _do_plot = function() {\n",
       "       if (typeof vg === 'undefined') {\n",
       "         window.addEventListener('vincent_libs_loaded', _do_plot)\n",
       "         return;\n",
       "       }\n",
       "       vg.parse.spec({\"axes\": [{\"scale\": \"x\", \"type\": \"x\"}, {\"scale\": \"y\", \"type\": \"y\"}], \"data\": [{\"name\": \"table\", \"values\": [{\"col\": \"date\", \"idx\": 1444152600000, \"val\": 4}, {\"col\": \"date\", \"idx\": 1444197600000, \"val\": 6}, {\"col\": \"date\", \"idx\": 1444242600000, \"val\": 12}, {\"col\": \"date\", \"idx\": 1444287600000, \"val\": 13}, {\"col\": \"date\", \"idx\": 1444332600000, \"val\": 11}, {\"col\": \"date\", \"idx\": 1444377600000, \"val\": 9}, {\"col\": \"date\", \"idx\": 1444422600000, \"val\": 23}, {\"col\": \"date\", \"idx\": 1444467600000, \"val\": 10}, {\"col\": \"date\", \"idx\": 1444512600000, \"val\": 3}, {\"col\": \"date\", \"idx\": 1444557600000, \"val\": 1}, {\"col\": \"date\", \"idx\": 1444602600000, \"val\": 5}, {\"col\": \"date\", \"idx\": 1444647600000, \"val\": 4}, {\"col\": \"date\", \"idx\": 1444692600000, \"val\": 16}, {\"col\": \"date\", \"idx\": 1444737600000, \"val\": 18}, {\"col\": \"date\", \"idx\": 1444782600000, \"val\": 72}, {\"col\": \"date\", \"idx\": 1444827600000, \"val\": 12}, {\"col\": \"date\", \"idx\": 1444872600000, \"val\": 6}, {\"col\": \"date\", \"idx\": 1444917600000, \"val\": 8}, {\"col\": \"date\", \"idx\": 1444962600000, \"val\": 21}, {\"col\": \"date\", \"idx\": 1445007600000, \"val\": 8}, {\"col\": \"date\", \"idx\": 1445052600000, \"val\": 3}, {\"col\": \"date\", \"idx\": 1445097600000, \"val\": 14}, {\"col\": \"date\", \"idx\": 1445142600000, \"val\": 7}, {\"col\": \"date\", \"idx\": 1445187600000, \"val\": 64}, {\"col\": \"date\", \"idx\": 1445232600000, \"val\": 2}, {\"col\": \"date\", \"idx\": 1445277600000, \"val\": 11}, {\"col\": \"date\", \"idx\": 1445322600000, \"val\": 0}, {\"col\": \"date\", \"idx\": 1445367600000, \"val\": 28}, {\"col\": \"date\", \"idx\": 1445412600000, \"val\": 12}, {\"col\": \"date\", \"idx\": 1445457600000, \"val\": 5}, {\"col\": \"date\", \"idx\": 1445502600000, \"val\": 5}, {\"col\": \"date\", \"idx\": 1445547600000, \"val\": 5}, {\"col\": \"date\", \"idx\": 1445592600000, \"val\": 1}, {\"col\": \"date\", \"idx\": 1445637600000, \"val\": 3}, {\"col\": \"date\", \"idx\": 1445682600000, \"val\": 15}, {\"col\": \"date\", \"idx\": 1445727600000, \"val\": 12}, {\"col\": \"date\", \"idx\": 1445772600000, \"val\": 36}, {\"col\": \"date\", \"idx\": 1445817600000, \"val\": 8}, {\"col\": \"date\", \"idx\": 1445862600000, \"val\": 6}, {\"col\": \"date\", \"idx\": 1445907600000, \"val\": 9}, {\"col\": \"date\", \"idx\": 1445952600000, \"val\": 9}, {\"col\": \"date\", \"idx\": 1445997600000, \"val\": 12}, {\"col\": \"date\", \"idx\": 1446042600000, \"val\": 14}, {\"col\": \"date\", \"idx\": 1446087600000, \"val\": 32}, {\"col\": \"date\", \"idx\": 1446132600000, \"val\": 27}, {\"col\": \"date\", \"idx\": 1446177600000, \"val\": 3}, {\"col\": \"date\", \"idx\": 1446222600000, \"val\": 20}, {\"col\": \"date\", \"idx\": 1446267600000, \"val\": 17}, {\"col\": \"date\", \"idx\": 1446312600000, \"val\": 31}, {\"col\": \"date\", \"idx\": 1446357600000, \"val\": 9}, {\"col\": \"date\", \"idx\": 1446402600000, \"val\": 13}, {\"col\": \"date\", \"idx\": 1446447600000, \"val\": 8}, {\"col\": \"date\", \"idx\": 1446492600000, \"val\": 12}, {\"col\": \"date\", \"idx\": 1446537600000, \"val\": 13}, {\"col\": \"date\", \"idx\": 1446582600000, \"val\": 19}, {\"col\": \"date\", \"idx\": 1446627600000, \"val\": 2}, {\"col\": \"date\", \"idx\": 1446672600000, \"val\": 3}, {\"col\": \"date\", \"idx\": 1446717600000, \"val\": 10}, {\"col\": \"date\", \"idx\": 1446762600000, \"val\": 14}, {\"col\": \"date\", \"idx\": 1446807600000, \"val\": 22}, {\"col\": \"date\", \"idx\": 1446852600000, \"val\": 8}, {\"col\": \"date\", \"idx\": 1446897600000, \"val\": 22}, {\"col\": \"date\", \"idx\": 1446942600000, \"val\": 1}, {\"col\": \"date\", \"idx\": 1446987600000, \"val\": 36}, {\"col\": \"date\", \"idx\": 1447032600000, \"val\": 2}, {\"col\": \"date\", \"idx\": 1447077600000, \"val\": 4}, {\"col\": \"date\", \"idx\": 1447122600000, \"val\": 21}, {\"col\": \"date\", \"idx\": 1447167600000, \"val\": 8}, {\"col\": \"date\", \"idx\": 1447212600000, \"val\": 5}, {\"col\": \"date\", \"idx\": 1447257600000, \"val\": 11}, {\"col\": \"date\", \"idx\": 1447302600000, \"val\": 10}, {\"col\": \"date\", \"idx\": 1447347600000, \"val\": 10}, {\"col\": \"date\", \"idx\": 1447392600000, \"val\": 1}, {\"col\": \"date\", \"idx\": 1447437600000, \"val\": 12}, {\"col\": \"date\", \"idx\": 1447482600000, \"val\": 2}, {\"col\": \"date\", \"idx\": 1447527600000, \"val\": 22}, {\"col\": \"date\", \"idx\": 1447572600000, \"val\": 1}, {\"col\": \"date\", \"idx\": 1447617600000, \"val\": 22}, {\"col\": \"date\", \"idx\": 1447662600000, \"val\": 3}, {\"col\": \"date\", \"idx\": 1447707600000, \"val\": 9}, {\"col\": \"date\", \"idx\": 1447752600000, \"val\": 7}, {\"col\": \"date\", \"idx\": 1447797600000, \"val\": 6}, {\"col\": \"date\", \"idx\": 1447842600000, \"val\": 5}, {\"col\": \"date\", \"idx\": 1447887600000, \"val\": 1}, {\"col\": \"date\", \"idx\": 1447932600000, \"val\": 17}, {\"col\": \"date\", \"idx\": 1447977600000, \"val\": 14}, {\"col\": \"date\", \"idx\": 1448022600000, \"val\": 14}, {\"col\": \"date\", \"idx\": 1448067600000, \"val\": 29}, {\"col\": \"date\", \"idx\": 1448112600000, \"val\": 28}, {\"col\": \"date\", \"idx\": 1448157600000, \"val\": 5}, {\"col\": \"date\", \"idx\": 1448202600000, \"val\": 16}, {\"col\": \"date\", \"idx\": 1448247600000, \"val\": 0}, {\"col\": \"date\", \"idx\": 1448292600000, \"val\": 12}, {\"col\": \"date\", \"idx\": 1448337600000, \"val\": 6}, {\"col\": \"date\", \"idx\": 1448382600000, \"val\": 12}, {\"col\": \"date\", \"idx\": 1448427600000, \"val\": 13}, {\"col\": \"date\", \"idx\": 1448472600000, \"val\": 12}, {\"col\": \"date\", \"idx\": 1448517600000, \"val\": 1}, {\"col\": \"date\", \"idx\": 1448562600000, \"val\": 8}, {\"col\": \"date\", \"idx\": 1448607600000, \"val\": 2}, {\"col\": \"date\", \"idx\": 1448652600000, \"val\": 6}, {\"col\": \"date\", \"idx\": 1448697600000, \"val\": 6}, {\"col\": \"date\", \"idx\": 1448742600000, \"val\": 12}, {\"col\": \"date\", \"idx\": 1448787600000, \"val\": 3}, {\"col\": \"date\", \"idx\": 1448832600000, \"val\": 14}, {\"col\": \"date\", \"idx\": 1448877600000, \"val\": 11}, {\"col\": \"date\", \"idx\": 1448922600000, \"val\": 2}, {\"col\": \"date\", \"idx\": 1448967600000, \"val\": 14}, {\"col\": \"date\", \"idx\": 1449012600000, \"val\": 6}, {\"col\": \"date\", \"idx\": 1449057600000, \"val\": 12}, {\"col\": \"date\", \"idx\": 1449102600000, \"val\": 13}, {\"col\": \"date\", \"idx\": 1449147600000, \"val\": 26}, {\"col\": \"date\", \"idx\": 1449192600000, \"val\": 9}, {\"col\": \"date\", \"idx\": 1449237600000, \"val\": 12}, {\"col\": \"date\", \"idx\": 1449282600000, \"val\": 12}, {\"col\": \"date\", \"idx\": 1449327600000, \"val\": 8}, {\"col\": \"date\", \"idx\": 1449372600000, \"val\": 4}, {\"col\": \"date\", \"idx\": 1449417600000, \"val\": 33}, {\"col\": \"date\", \"idx\": 1449462600000, \"val\": 8}, {\"col\": \"date\", \"idx\": 1449507600000, \"val\": 25}, {\"col\": \"date\", \"idx\": 1449552600000, \"val\": 4}, {\"col\": \"date\", \"idx\": 1449597600000, \"val\": 13}, {\"col\": \"date\", \"idx\": 1449642600000, \"val\": 11}, {\"col\": \"date\", \"idx\": 1449687600000, \"val\": 20}, {\"col\": \"date\", \"idx\": 1449732600000, \"val\": 11}, {\"col\": \"date\", \"idx\": 1449777600000, \"val\": 9}, {\"col\": \"date\", \"idx\": 1449822600000, \"val\": 7}, {\"col\": \"date\", \"idx\": 1449867600000, \"val\": 14}, {\"col\": \"date\", \"idx\": 1449912600000, \"val\": 13}, {\"col\": \"date\", \"idx\": 1449957600000, \"val\": 10}, {\"col\": \"date\", \"idx\": 1450002600000, \"val\": 17}, {\"col\": \"date\", \"idx\": 1450047600000, \"val\": 15}, {\"col\": \"date\", \"idx\": 1450092600000, \"val\": 13}, {\"col\": \"date\", \"idx\": 1450137600000, \"val\": 11}, {\"col\": \"date\", \"idx\": 1450182600000, \"val\": 18}, {\"col\": \"date\", \"idx\": 1450227600000, \"val\": 12}, {\"col\": \"date\", \"idx\": 1450272600000, \"val\": 17}, {\"col\": \"date\", \"idx\": 1450317600000, \"val\": 4}, {\"col\": \"date\", \"idx\": 1450362600000, \"val\": 3}, {\"col\": \"date\", \"idx\": 1450407600000, \"val\": 2}, {\"col\": \"date\", \"idx\": 1450452600000, \"val\": 14}, {\"col\": \"date\", \"idx\": 1450497600000, \"val\": 0}, {\"col\": \"date\", \"idx\": 1450542600000, \"val\": 7}, {\"col\": \"date\", \"idx\": 1450587600000, \"val\": 13}, {\"col\": \"date\", \"idx\": 1450632600000, \"val\": 10}, {\"col\": \"date\", \"idx\": 1450677600000, \"val\": 9}, {\"col\": \"date\", \"idx\": 1450722600000, \"val\": 8}, {\"col\": \"date\", \"idx\": 1450767600000, \"val\": 2}, {\"col\": \"date\", \"idx\": 1450812600000, \"val\": 27}, {\"col\": \"date\", \"idx\": 1450857600000, \"val\": 9}, {\"col\": \"date\", \"idx\": 1450902600000, \"val\": 4}, {\"col\": \"date\", \"idx\": 1450947600000, \"val\": 4}, {\"col\": \"date\", \"idx\": 1450992600000, \"val\": 12}, {\"col\": \"date\", \"idx\": 1451037600000, \"val\": 11}, {\"col\": \"date\", \"idx\": 1451082600000, \"val\": 2}, {\"col\": \"date\", \"idx\": 1451127600000, \"val\": 4}, {\"col\": \"date\", \"idx\": 1451172600000, \"val\": 4}, {\"col\": \"date\", \"idx\": 1451217600000, \"val\": 16}, {\"col\": \"date\", \"idx\": 1451262600000, \"val\": 2}, {\"col\": \"date\", \"idx\": 1451307600000, \"val\": 7}, {\"col\": \"date\", \"idx\": 1451352600000, \"val\": 15}, {\"col\": \"date\", \"idx\": 1451397600000, \"val\": 9}, {\"col\": \"date\", \"idx\": 1451442600000, \"val\": 8}, {\"col\": \"date\", \"idx\": 1451487600000, \"val\": 8}, {\"col\": \"date\", \"idx\": 1451532600000, \"val\": 17}, {\"col\": \"date\", \"idx\": 1451577600000, \"val\": 7}, {\"col\": \"date\", \"idx\": 1451622600000, \"val\": 3}, {\"col\": \"date\", \"idx\": 1451667600000, \"val\": 12}, {\"col\": \"date\", \"idx\": 1451712600000, \"val\": 3}, {\"col\": \"date\", \"idx\": 1451757600000, \"val\": 9}, {\"col\": \"date\", \"idx\": 1451802600000, \"val\": 8}, {\"col\": \"date\", \"idx\": 1451847600000, \"val\": 8}, {\"col\": \"date\", \"idx\": 1451892600000, \"val\": 2}, {\"col\": \"date\", \"idx\": 1451937600000, \"val\": 12}, {\"col\": \"date\", \"idx\": 1451982600000, \"val\": 4}, {\"col\": \"date\", \"idx\": 1452027600000, \"val\": 11}, {\"col\": \"date\", \"idx\": 1452072600000, \"val\": 5}, {\"col\": \"date\", \"idx\": 1452117600000, \"val\": 2}, {\"col\": \"date\", \"idx\": 1452162600000, \"val\": 14}, {\"col\": \"date\", \"idx\": 1452207600000, \"val\": 6}, {\"col\": \"date\", \"idx\": 1452252600000, \"val\": 6}, {\"col\": \"date\", \"idx\": 1452297600000, \"val\": 3}, {\"col\": \"date\", \"idx\": 1452342600000, \"val\": 9}, {\"col\": \"date\", \"idx\": 1452387600000, \"val\": 3}, {\"col\": \"date\", \"idx\": 1452432600000, \"val\": 11}, {\"col\": \"date\", \"idx\": 1452477600000, \"val\": 0}, {\"col\": \"date\", \"idx\": 1452522600000, \"val\": 12}, {\"col\": \"date\", \"idx\": 1452567600000, \"val\": 6}, {\"col\": \"date\", \"idx\": 1452612600000, \"val\": 6}, {\"col\": \"date\", \"idx\": 1452657600000, \"val\": 8}, {\"col\": \"date\", \"idx\": 1452702600000, \"val\": 6}, {\"col\": \"date\", \"idx\": 1452747600000, \"val\": 4}, {\"col\": \"date\", \"idx\": 1452792600000, \"val\": 9}, {\"col\": \"date\", \"idx\": 1452837600000, \"val\": 2}, {\"col\": \"date\", \"idx\": 1452882600000, \"val\": 9}, {\"col\": \"date\", \"idx\": 1452927600000, \"val\": 13}, {\"col\": \"date\", \"idx\": 1452972600000, \"val\": 4}, {\"col\": \"date\", \"idx\": 1453017600000, \"val\": 3}, {\"col\": \"date\", \"idx\": 1453062600000, \"val\": 3}, {\"col\": \"date\", \"idx\": 1453107600000, \"val\": 5}, {\"col\": \"date\", \"idx\": 1453152600000, \"val\": 5}, {\"col\": \"date\", \"idx\": 1453197600000, \"val\": 11}, {\"col\": \"date\", \"idx\": 1453242600000, \"val\": 5}, {\"col\": \"date\", \"idx\": 1453287600000, \"val\": 6}, {\"col\": \"date\", \"idx\": 1453332600000, \"val\": 4}, {\"col\": \"date\", \"idx\": 1453377600000, \"val\": 14}, {\"col\": \"date\", \"idx\": 1453422600000, \"val\": 7}, {\"col\": \"date\", \"idx\": 1453467600000, \"val\": 25}, {\"col\": \"date\", \"idx\": 1453512600000, \"val\": 7}, {\"col\": \"date\", \"idx\": 1453557600000, \"val\": 20}, {\"col\": \"date\", \"idx\": 1453602600000, \"val\": 6}, {\"col\": \"date\", \"idx\": 1453647600000, \"val\": 11}, {\"col\": \"date\", \"idx\": 1453692600000, \"val\": 8}, {\"col\": \"date\", \"idx\": 1453737600000, \"val\": 16}, {\"col\": \"date\", \"idx\": 1453782600000, \"val\": 19}, {\"col\": \"date\", \"idx\": 1453827600000, \"val\": 12}, {\"col\": \"date\", \"idx\": 1453872600000, \"val\": 3}, {\"col\": \"date\", \"idx\": 1453917600000, \"val\": 11}, {\"col\": \"date\", \"idx\": 1453962600000, \"val\": 24}, {\"col\": \"date\", \"idx\": 1454007600000, \"val\": 11}, {\"col\": \"date\", \"idx\": 1454052600000, \"val\": 10}, {\"col\": \"date\", \"idx\": 1454097600000, \"val\": 13}, {\"col\": \"date\", \"idx\": 1454142600000, \"val\": 4}, {\"col\": \"date\", \"idx\": 1454187600000, \"val\": 0}, {\"col\": \"date\", \"idx\": 1454232600000, \"val\": 16}, {\"col\": \"date\", \"idx\": 1454277600000, \"val\": 2}, {\"col\": \"date\", \"idx\": 1454322600000, \"val\": 3}, {\"col\": \"date\", \"idx\": 1454367600000, \"val\": 0}, {\"col\": \"date\", \"idx\": 1454412600000, \"val\": 16}, {\"col\": \"date\", \"idx\": 1454457600000, \"val\": 1}, {\"col\": \"date\", \"idx\": 1454502600000, \"val\": 14}, {\"col\": \"date\", \"idx\": 1454547600000, \"val\": 6}, {\"col\": \"date\", \"idx\": 1454592600000, \"val\": 3}, {\"col\": \"date\", \"idx\": 1454637600000, \"val\": 2}, {\"col\": \"date\", \"idx\": 1454682600000, \"val\": 10}, {\"col\": \"date\", \"idx\": 1454727600000, \"val\": 10}, {\"col\": \"date\", \"idx\": 1454772600000, \"val\": 11}, {\"col\": \"date\", \"idx\": 1454817600000, \"val\": 19}, {\"col\": \"date\", \"idx\": 1454862600000, \"val\": 6}, {\"col\": \"date\", \"idx\": 1454907600000, \"val\": 3}, {\"col\": \"date\", \"idx\": 1454952600000, \"val\": 10}, {\"col\": \"date\", \"idx\": 1454997600000, \"val\": 10}, {\"col\": \"date\", \"idx\": 1455042600000, \"val\": 6}, {\"col\": \"date\", \"idx\": 1455087600000, \"val\": 5}, {\"col\": \"date\", \"idx\": 1455132600000, \"val\": 5}, {\"col\": \"date\", \"idx\": 1455177600000, \"val\": 5}, {\"col\": \"date\", \"idx\": 1455222600000, \"val\": 9}, {\"col\": \"date\", \"idx\": 1455267600000, \"val\": 8}, {\"col\": \"date\", \"idx\": 1455312600000, \"val\": 11}, {\"col\": \"date\", \"idx\": 1455357600000, \"val\": 18}, {\"col\": \"date\", \"idx\": 1455402600000, \"val\": 13}, {\"col\": \"date\", \"idx\": 1455447600000, \"val\": 10}, {\"col\": \"date\", \"idx\": 1455492600000, \"val\": 0}, {\"col\": \"date\", \"idx\": 1455537600000, \"val\": 9}, {\"col\": \"date\", \"idx\": 1455582600000, \"val\": 4}, {\"col\": \"date\", \"idx\": 1455627600000, \"val\": 6}, {\"col\": \"date\", \"idx\": 1455672600000, \"val\": 9}, {\"col\": \"date\", \"idx\": 1455717600000, \"val\": 9}, {\"col\": \"date\", \"idx\": 1455762600000, \"val\": 7}, {\"col\": \"date\", \"idx\": 1455807600000, \"val\": 11}, {\"col\": \"date\", \"idx\": 1455852600000, \"val\": 1}, {\"col\": \"date\", \"idx\": 1455897600000, \"val\": 15}, {\"col\": \"date\", \"idx\": 1455942600000, \"val\": 12}, {\"col\": \"date\", \"idx\": 1455987600000, \"val\": 8}, {\"col\": \"date\", \"idx\": 1456032600000, \"val\": 6}, {\"col\": \"date\", \"idx\": 1456077600000, \"val\": 3}, {\"col\": \"date\", \"idx\": 1456122600000, \"val\": 10}, {\"col\": \"date\", \"idx\": 1456167600000, \"val\": 21}, {\"col\": \"date\", \"idx\": 1456212600000, \"val\": 13}, {\"col\": \"date\", \"idx\": 1456257600000, \"val\": 10}, {\"col\": \"date\", \"idx\": 1456302600000, \"val\": 8}, {\"col\": \"date\", \"idx\": 1456347600000, \"val\": 19}, {\"col\": \"date\", \"idx\": 1456392600000, \"val\": 10}, {\"col\": \"date\", \"idx\": 1456437600000, \"val\": 11}, {\"col\": \"date\", \"idx\": 1456482600000, \"val\": 18}, {\"col\": \"date\", \"idx\": 1456527600000, \"val\": 5}, {\"col\": \"date\", \"idx\": 1456572600000, \"val\": 14}, {\"col\": \"date\", \"idx\": 1456617600000, \"val\": 10}, {\"col\": \"date\", \"idx\": 1456662600000, \"val\": 18}, {\"col\": \"date\", \"idx\": 1456707600000, \"val\": 2}, {\"col\": \"date\", \"idx\": 1456752600000, \"val\": 12}, {\"col\": \"date\", \"idx\": 1456797600000, \"val\": 3}, {\"col\": \"date\", \"idx\": 1456842600000, \"val\": 13}, {\"col\": \"date\", \"idx\": 1456887600000, \"val\": 7}, {\"col\": \"date\", \"idx\": 1456932600000, \"val\": 13}, {\"col\": \"date\", \"idx\": 1456977600000, \"val\": 15}, {\"col\": \"date\", \"idx\": 1457022600000, \"val\": 5}, {\"col\": \"date\", \"idx\": 1457067600000, \"val\": 5}, {\"col\": \"date\", \"idx\": 1457112600000, \"val\": 8}, {\"col\": \"date\", \"idx\": 1457157600000, \"val\": 11}, {\"col\": \"date\", \"idx\": 1457202600000, \"val\": 10}, {\"col\": \"date\", \"idx\": 1457247600000, \"val\": 10}, {\"col\": \"date\", \"idx\": 1457292600000, \"val\": 4}, {\"col\": \"date\", \"idx\": 1457337600000, \"val\": 7}, {\"col\": \"date\", \"idx\": 1457382600000, \"val\": 11}, {\"col\": \"date\", \"idx\": 1457427600000, \"val\": 12}, {\"col\": \"date\", \"idx\": 1457472600000, \"val\": 11}, {\"col\": \"date\", \"idx\": 1457517600000, \"val\": 0}, {\"col\": \"date\", \"idx\": 1457562600000, \"val\": 3}, {\"col\": \"date\", \"idx\": 1457607600000, \"val\": 1}, {\"col\": \"date\", \"idx\": 1457652600000, \"val\": 5}, {\"col\": \"date\", \"idx\": 1457697600000, \"val\": 11}, {\"col\": \"date\", \"idx\": 1457742600000, \"val\": 2}, {\"col\": \"date\", \"idx\": 1457787600000, \"val\": 15}, {\"col\": \"date\", \"idx\": 1457832600000, \"val\": 5}, {\"col\": \"date\", \"idx\": 1457877600000, \"val\": 8}, {\"col\": \"date\", \"idx\": 1457922600000, \"val\": 1}, {\"col\": \"date\", \"idx\": 1457967600000, \"val\": 6}, {\"col\": \"date\", \"idx\": 1458012600000, \"val\": 16}, {\"col\": \"date\", \"idx\": 1458057600000, \"val\": 19}, {\"col\": \"date\", \"idx\": 1458102600000, \"val\": 9}, {\"col\": \"date\", \"idx\": 1458147600000, \"val\": 9}, {\"col\": \"date\", \"idx\": 1458192600000, \"val\": 11}, {\"col\": \"date\", \"idx\": 1458237600000, \"val\": 3}, {\"col\": \"date\", \"idx\": 1458282600000, \"val\": 2}, {\"col\": \"date\", \"idx\": 1458327600000, \"val\": 12}]}, {\"name\": \"stats\", \"source\": \"table\", \"transform\": [{\"keys\": [\"data.idx\"], \"type\": \"facet\"}, {\"type\": \"stats\", \"value\": \"data.val\"}]}], \"height\": 500, \"legends\": [], \"marks\": [{\"from\": {\"data\": \"table\", \"transform\": [{\"keys\": [\"data.col\"], \"type\": \"facet\"}, {\"height\": \"data.val\", \"point\": \"data.idx\", \"type\": \"stack\"}]}, \"marks\": [{\"properties\": {\"enter\": {\"fill\": {\"field\": \"data.col\", \"scale\": \"color\"}, \"interpolate\": {\"value\": \"monotone\"}, \"x\": {\"field\": \"data.idx\", \"scale\": \"x\"}, \"y\": {\"field\": \"y\", \"scale\": \"y\"}, \"y2\": {\"field\": \"y2\", \"scale\": \"y\"}}}, \"type\": \"area\"}], \"type\": \"group\"}], \"padding\": \"auto\", \"scales\": [{\"domain\": {\"data\": \"table\", \"field\": \"data.idx\"}, \"name\": \"x\", \"range\": \"width\", \"type\": \"time\", \"zero\": false}, {\"domain\": {\"data\": \"stats\", \"field\": \"sum\"}, \"name\": \"y\", \"nice\": true, \"range\": \"height\"}, {\"domain\": {\"data\": \"table\", \"field\": \"data.col\"}, \"name\": \"color\", \"range\": [\"#9e0142\", \"#d53e4f\", \"#f46d43\", \"#fdae61\", \"#fee08b\", \"#ffffbf\", \"#e6f598\", \"#abdda4\", \"#66c2a5\", \"#3288bd\", \"#5e4fa2\"], \"type\": \"ordinal\"}], \"width\": 960}, function(chart) {\n",
       "         chart({el: \"#vis39caeb14b5b24578b3f7fcfe47987560\"}).update();\n",
       "       });\n",
       "     };\n",
       "     _do_plot();\n",
       "   })();\n",
       "</script>\n",
       "<style>.vega canvas {width: 100%;}</style>\n",
       "        "
      ],
      "text/plain": [
       "<IPython.core.display.HTML object>"
      ]
     },
     "metadata": {},
     "output_type": "display_data"
    }
   ],
   "source": [
    "# Graph time series of tweets\n",
    "import vincent\n",
    "vincent.core.initialize_notebook()\n",
    "area = vincent.Area(tweets1t)\n",
    "area.colors(brew='Spectral')\n",
    "area.display()"
   ]
  },
  {
   "cell_type": "code",
   "execution_count": 108,
   "metadata": {
    "collapsed": false
   },
   "outputs": [
    {
     "name": "stderr",
     "output_type": "stream",
     "text": [
      "/Users/alex/anaconda/lib/python2.7/site-packages/IPython/kernel/__main__.py:13: UnicodeWarning: Unicode equal comparison failed to convert both arguments to Unicode - interpreting them as being unequal\n"
     ]
    }
   ],
   "source": [
    "# Separate each tweet into separate words (tokens)\n",
    "\n",
    "import nltk\n",
    "from nltk.corpus import stopwords\n",
    "from nltk import FreqDist\n",
    "stop = stopwords.words('english')\n",
    "text = tweets['text']\n",
    "\n",
    "tokens = []\n",
    "for txt in text.values:\n",
    "    tokens.extend([t.lower().strip(\":,.&- \") for t in txt.split()])\n",
    "\n",
    "filtered_tokens = [w for w in tokens if w not in stop]"
   ]
  },
  {
   "cell_type": "code",
   "execution_count": 109,
   "metadata": {
    "collapsed": false
   },
   "outputs": [
    {
     "data": {
      "text/plain": [
       "FreqDist({'@realdonaldtrump': 696, '': 558, 'trump': 483, 'great': 447, 'thank': 384, '#trump2016': 324, 'new': 224, '#makeamericagreatagain': 201, 'poll': 194, 'america': 192, ...})"
      ]
     },
     "execution_count": 109,
     "metadata": {},
     "output_type": "execute_result"
    }
   ],
   "source": [
    "# Run frequency distribution to see most frequently used words.\n",
    "\n",
    "freq_dist = nltk.FreqDist(filtered_tokens)\n",
    "\n",
    "freq_dist"
   ]
  },
  {
   "cell_type": "code",
   "execution_count": 110,
   "metadata": {
    "collapsed": false
   },
   "outputs": [],
   "source": [
    "# Adding a different method to text analysis\n",
    "\n",
    "import re\n",
    "def word_in_text(word, text):\n",
    "    word = word.lower()\n",
    "    text = text.lower()\n",
    "    match = re.search(word, text)\n",
    "    if match:\n",
    "        return True\n",
    "    return False"
   ]
  },
  {
   "cell_type": "code",
   "execution_count": 157,
   "metadata": {
    "collapsed": false
   },
   "outputs": [
    {
     "name": "stdout",
     "output_type": "stream",
     "text": [
      "Times mentioned America:\n",
      "534\n",
      "Times mentioned self:\n",
      "1679\n",
      "Times mentioned veterans:\n",
      "17\n",
      "Times mentioned walls:\n",
      "48\n",
      "Times wanted to boycott things:\n",
      "7\n",
      "Times was bored:\n",
      "18\n"
     ]
    }
   ],
   "source": [
    "# Note: the numbers produced by this method differ from the numbers produced above by the frequency distribution; \n",
    "# this is because the two methods parse text differently.\n",
    "# This method will count an instance of \"Trump\" in \"#Trump2016\", for instance;\n",
    "# the frequency distribution will only count isolated instances of \"trump\".\n",
    "# Note also: I realize there's a much more succinct way of doing this, refactored, with cleaner (more complex) syntax. \n",
    "# I'm lazy. I'm sorry.\n",
    "\n",
    "tweets['America'] = tweets['text'].apply(lambda tweet: word_in_text('america', tweet))\n",
    "tweets['boycott'] = tweets['text'].apply(lambda tweet: word_in_text('boycott', tweet))\n",
    "tweets['boring'] = tweets['text'].apply(lambda tweet: word_in_text('boring', tweet))\n",
    "tweets['Trump'] = tweets['text'].apply(lambda tweet: word_in_text('Trump', tweet))\n",
    "tweets['veterans'] = tweets['text'].apply(lambda tweet: word_in_text('veterans', tweet))\n",
    "tweets['wall'] = tweets['text'].apply(lambda tweet: word_in_text('wall', tweet))\n",
    "\n",
    "print \"Times mentioned America:\"\n",
    "print tweets['America'].value_counts()[True]\n",
    "print 'Times mentioned self:'\n",
    "print tweets['Trump'].value_counts()[True]\n",
    "print 'Times mentioned veterans:'\n",
    "print tweets['veterans'].value_counts()[True]\n",
    "print 'Times mentioned walls:'\n",
    "print tweets['wall'].value_counts()[True]\n",
    "print 'Times wanted to boycott things:'\n",
    "print tweets['boycott'].value_counts()[True]\n",
    "print 'Times was bored:'\n",
    "print tweets['boring'].value_counts()[True]\n"
   ]
  },
  {
   "cell_type": "code",
   "execution_count": 158,
   "metadata": {
    "collapsed": false
   },
   "outputs": [
    {
     "name": "stdout",
     "output_type": "stream",
     "text": [
      "Times mentioned Mitt Romney:\n",
      "48\n",
      "Times mentioned Megyn Kelly:\n",
      "53\n",
      "Times mentioned Marco Rubio:\n",
      "80\n"
     ]
    }
   ],
   "source": [
    "tweets['Romney'] = tweets['text'].apply(lambda tweet: word_in_text('Romney', tweet))\n",
    "tweets['Megyn'] = tweets['text'].apply(lambda tweet: word_in_text('Megyn', tweet))\n",
    "tweets['Marco'] = tweets['text'].apply(lambda tweet: word_in_text('Marco', tweet))\n",
    "\n",
    "print 'Times mentioned Mitt Romney:'\n",
    "print tweets['Romney'].value_counts()[True]\n",
    "print 'Times mentioned Megyn Kelly:'\n",
    "print tweets['Megyn'].value_counts()[True]\n",
    "print 'Times mentioned Marco Rubio:'\n",
    "print tweets['Marco'].value_counts()[True]"
   ]
  },
  {
   "cell_type": "code",
   "execution_count": 159,
   "metadata": {
    "collapsed": true
   },
   "outputs": [],
   "source": [
    "# Not *that* in love with America, are we now...\n",
    "# Also, cute that we care more about walls than we do veterans. #MakeAmericaIngrateAgain"
   ]
  },
  {
   "cell_type": "code",
   "execution_count": 160,
   "metadata": {
    "collapsed": false
   },
   "outputs": [
    {
     "data": {
      "text/html": [
       "<div>\n",
       "<table border=\"1\" class=\"dataframe\">\n",
       "  <thead>\n",
       "    <tr style=\"text-align: right;\">\n",
       "      <th></th>\n",
       "      <th>date</th>\n",
       "      <th>text</th>\n",
       "      <th>retweets</th>\n",
       "      <th>favorites</th>\n",
       "      <th>America</th>\n",
       "      <th>boycott</th>\n",
       "      <th>boring</th>\n",
       "      <th>Trump</th>\n",
       "      <th>veterans</th>\n",
       "      <th>wall</th>\n",
       "      <th>Romney</th>\n",
       "      <th>Megyn</th>\n",
       "      <th>Marco</th>\n",
       "    </tr>\n",
       "    <tr>\n",
       "      <th>date</th>\n",
       "      <th></th>\n",
       "      <th></th>\n",
       "      <th></th>\n",
       "      <th></th>\n",
       "      <th></th>\n",
       "      <th></th>\n",
       "      <th></th>\n",
       "      <th></th>\n",
       "      <th></th>\n",
       "      <th></th>\n",
       "      <th></th>\n",
       "      <th></th>\n",
       "      <th></th>\n",
       "    </tr>\n",
       "  </thead>\n",
       "  <tbody>\n",
       "    <tr>\n",
       "      <th>2016-03-18 17:55:00-05:00</th>\n",
       "      <td>2016-03-18 22:55:00</td>\n",
       "      <td>Everybody should boycott the @megynkelly show....</td>\n",
       "      <td>3517</td>\n",
       "      <td>10453</td>\n",
       "      <td>False</td>\n",
       "      <td>True</td>\n",
       "      <td>False</td>\n",
       "      <td>True</td>\n",
       "      <td>False</td>\n",
       "      <td>False</td>\n",
       "      <td>False</td>\n",
       "      <td>True</td>\n",
       "      <td>False</td>\n",
       "    </tr>\n",
       "    <tr>\n",
       "      <th>2016-03-18 16:41:00-05:00</th>\n",
       "      <td>2016-03-18 21:41:00</td>\n",
       "      <td>Thank you Arizona- I love you! #MakeAmericaGre...</td>\n",
       "      <td>3222</td>\n",
       "      <td>9352</td>\n",
       "      <td>True</td>\n",
       "      <td>False</td>\n",
       "      <td>False</td>\n",
       "      <td>True</td>\n",
       "      <td>False</td>\n",
       "      <td>False</td>\n",
       "      <td>False</td>\n",
       "      <td>False</td>\n",
       "      <td>False</td>\n",
       "    </tr>\n",
       "    <tr>\n",
       "      <th>2016-03-18 16:39:00-05:00</th>\n",
       "      <td>2016-03-18 21:39:00</td>\n",
       "      <td>Join me tomorrow! #Trump2016 #MakeAmericaGreat...</td>\n",
       "      <td>1742</td>\n",
       "      <td>5283</td>\n",
       "      <td>True</td>\n",
       "      <td>False</td>\n",
       "      <td>False</td>\n",
       "      <td>True</td>\n",
       "      <td>False</td>\n",
       "      <td>False</td>\n",
       "      <td>False</td>\n",
       "      <td>False</td>\n",
       "      <td>False</td>\n",
       "    </tr>\n",
       "    <tr>\n",
       "      <th>2016-03-18 16:37:00-05:00</th>\n",
       "      <td>2016-03-18 21:37:00</td>\n",
       "      <td>Mitt Romney is a mixed up man who doesn't have...</td>\n",
       "      <td>2755</td>\n",
       "      <td>9199</td>\n",
       "      <td>False</td>\n",
       "      <td>False</td>\n",
       "      <td>False</td>\n",
       "      <td>False</td>\n",
       "      <td>False</td>\n",
       "      <td>False</td>\n",
       "      <td>True</td>\n",
       "      <td>False</td>\n",
       "      <td>False</td>\n",
       "    </tr>\n",
       "    <tr>\n",
       "      <th>2016-03-18 16:21:00-05:00</th>\n",
       "      <td>2016-03-18 21:21:00</td>\n",
       "      <td>Failed Presidential Candidate Mitt Romney was ...</td>\n",
       "      <td>2770</td>\n",
       "      <td>8348</td>\n",
       "      <td>False</td>\n",
       "      <td>False</td>\n",
       "      <td>False</td>\n",
       "      <td>False</td>\n",
       "      <td>False</td>\n",
       "      <td>False</td>\n",
       "      <td>True</td>\n",
       "      <td>False</td>\n",
       "      <td>True</td>\n",
       "    </tr>\n",
       "  </tbody>\n",
       "</table>\n",
       "</div>"
      ],
      "text/plain": [
       "                                         date  \\\n",
       "date                                            \n",
       "2016-03-18 17:55:00-05:00 2016-03-18 22:55:00   \n",
       "2016-03-18 16:41:00-05:00 2016-03-18 21:41:00   \n",
       "2016-03-18 16:39:00-05:00 2016-03-18 21:39:00   \n",
       "2016-03-18 16:37:00-05:00 2016-03-18 21:37:00   \n",
       "2016-03-18 16:21:00-05:00 2016-03-18 21:21:00   \n",
       "\n",
       "                                                                        text  \\\n",
       "date                                                                           \n",
       "2016-03-18 17:55:00-05:00  Everybody should boycott the @megynkelly show....   \n",
       "2016-03-18 16:41:00-05:00  Thank you Arizona- I love you! #MakeAmericaGre...   \n",
       "2016-03-18 16:39:00-05:00  Join me tomorrow! #Trump2016 #MakeAmericaGreat...   \n",
       "2016-03-18 16:37:00-05:00  Mitt Romney is a mixed up man who doesn't have...   \n",
       "2016-03-18 16:21:00-05:00  Failed Presidential Candidate Mitt Romney was ...   \n",
       "\n",
       "                           retweets  favorites America boycott boring  Trump  \\\n",
       "date                                                                           \n",
       "2016-03-18 17:55:00-05:00      3517      10453   False    True  False   True   \n",
       "2016-03-18 16:41:00-05:00      3222       9352    True   False  False   True   \n",
       "2016-03-18 16:39:00-05:00      1742       5283    True   False  False   True   \n",
       "2016-03-18 16:37:00-05:00      2755       9199   False   False  False  False   \n",
       "2016-03-18 16:21:00-05:00      2770       8348   False   False  False  False   \n",
       "\n",
       "                          veterans   wall Romney  Megyn  Marco  \n",
       "date                                                            \n",
       "2016-03-18 17:55:00-05:00    False  False  False   True  False  \n",
       "2016-03-18 16:41:00-05:00    False  False  False  False  False  \n",
       "2016-03-18 16:39:00-05:00    False  False  False  False  False  \n",
       "2016-03-18 16:37:00-05:00    False  False   True  False  False  \n",
       "2016-03-18 16:21:00-05:00    False  False   True  False   True  "
      ]
     },
     "execution_count": 160,
     "metadata": {},
     "output_type": "execute_result"
    }
   ],
   "source": [
    "tweets.head(5)"
   ]
  }
 ],
 "metadata": {
  "kernelspec": {
   "display_name": "Python 2",
   "language": "python",
   "name": "python2"
  },
  "language_info": {
   "codemirror_mode": {
    "name": "ipython",
    "version": 2
   },
   "file_extension": ".py",
   "mimetype": "text/x-python",
   "name": "python",
   "nbconvert_exporter": "python",
   "pygments_lexer": "ipython2",
   "version": "2.7.10"
  }
 },
 "nbformat": 4,
 "nbformat_minor": 0
}
